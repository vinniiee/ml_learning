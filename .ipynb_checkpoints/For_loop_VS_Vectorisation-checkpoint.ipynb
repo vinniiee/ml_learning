{
 "cells": [
  {
   "cell_type": "code",
   "execution_count": 1,
   "metadata": {},
   "outputs": [
    {
     "name": "stdout",
     "output_type": "stream",
     "text": [
      "[1 2 3 4]\n"
     ]
    }
   ],
   "source": [
    "import numpy as np\n",
    "\n",
    "a=np.array([1,2,3,4])\n",
    "print(a)"
   ]
  },
  {
   "cell_type": "code",
   "execution_count": 5,
   "metadata": {},
   "outputs": [
    {
     "name": "stdout",
     "output_type": "stream",
     "text": [
      "250115.02318394737\n",
      "Vectorised version: 0.9977817535400391ms\n",
      "250115.0231839464\n",
      "For loop: 651.2720584869385ms\n"
     ]
    }
   ],
   "source": [
    "import time \n",
    "\n",
    "a = np.random.rand(1000000)\n",
    "b = np.random.rand(1000000)\n",
    "\n",
    "initiation_time = time.time()\n",
    "c = np.dot(a,b)\n",
    "completion_time = time.time()\n",
    "\n",
    "print(c)\n",
    "print(\"Vectorised version: \" + str(1000*(completion_time-initiation_time)) + \"ms\")\n",
    "\n",
    "c = 0\n",
    "initiation_time = time.time()\n",
    "for i in range(1000000):\n",
    "    c+=a[i]*b[i]\n",
    "completion_time = time.time()\n",
    "\n",
    "print(c)\n",
    "print(\"For loop: \" + str(1000*(completion_time-initiation_time)) + \"ms\")"
   ]
  },
  {
   "cell_type": "code",
   "execution_count": null,
   "metadata": {},
   "outputs": [],
   "source": []
  }
 ],
 "metadata": {
  "kernelspec": {
   "display_name": "Python 3",
   "language": "python",
   "name": "python3"
  },
  "language_info": {
   "codemirror_mode": {
    "name": "ipython",
    "version": 3
   },
   "file_extension": ".py",
   "mimetype": "text/x-python",
   "name": "python",
   "nbconvert_exporter": "python",
   "pygments_lexer": "ipython3",
   "version": "3.8.5"
  }
 },
 "nbformat": 4,
 "nbformat_minor": 4
}
